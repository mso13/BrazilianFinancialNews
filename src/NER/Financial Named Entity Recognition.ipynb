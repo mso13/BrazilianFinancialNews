{
 "cells": [
  {
   "cell_type": "code",
   "execution_count": 2,
   "id": "5b106998",
   "metadata": {},
   "outputs": [],
   "source": [
    "import re\n",
    "import json\n",
    "import pytz\n",
    "import string\n",
    "import numpy as np\n",
    "import pandas as pd\n",
    "import seaborn as sns\n",
    "import matplotlib.pyplot as plt\n",
    "\n",
    "%matplotlib inline\n",
    "%config InlineBackend.figure_format = 'svg'"
   ]
  },
  {
   "cell_type": "markdown",
   "id": "d769fd4e",
   "metadata": {},
   "source": [
    "---"
   ]
  },
  {
   "cell_type": "markdown",
   "id": "5794c553",
   "metadata": {},
   "source": [
    "### Dados da B3 (Dados das Empresas Listadas)\n",
    "\n",
    "**Colunas de interesse**\n",
    "\n",
    "- Nome Pregão\n",
    "- Tickers"
   ]
  },
  {
   "cell_type": "code",
   "execution_count": 3,
   "id": "22f556cb",
   "metadata": {},
   "outputs": [],
   "source": [
    "with open('../crawlers/b3/data/results-b3.json', encoding='utf8') as json_file:\n",
    "    data = json.load(json_file)\n",
    "\n",
    "df_b3 = pd.DataFrame(data)"
   ]
  },
  {
   "cell_type": "code",
   "execution_count": 4,
   "id": "e9aa3210",
   "metadata": {},
   "outputs": [
    {
     "data": {
      "text/html": [
       "<div>\n",
       "<style scoped>\n",
       "    .dataframe tbody tr th:only-of-type {\n",
       "        vertical-align: middle;\n",
       "    }\n",
       "\n",
       "    .dataframe tbody tr th {\n",
       "        vertical-align: top;\n",
       "    }\n",
       "\n",
       "    .dataframe thead th {\n",
       "        text-align: right;\n",
       "    }\n",
       "</style>\n",
       "<table border=\"1\" class=\"dataframe\">\n",
       "  <thead>\n",
       "    <tr style=\"text-align: right;\">\n",
       "      <th></th>\n",
       "      <th>razao_social</th>\n",
       "      <th>nome_pregao</th>\n",
       "      <th>segmento</th>\n",
       "      <th>tickers</th>\n",
       "      <th>setor_economico</th>\n",
       "      <th>subsetor</th>\n",
       "      <th>segmento_setorial</th>\n",
       "      <th>url_dados</th>\n",
       "    </tr>\n",
       "  </thead>\n",
       "  <tbody>\n",
       "    <tr>\n",
       "      <th>331</th>\n",
       "      <td>CVC BRASIL OPERADORA E AGÊNCIA DE VIAGENS S.A.</td>\n",
       "      <td>CVC BRASIL</td>\n",
       "      <td>NM</td>\n",
       "      <td>[CVCB3]</td>\n",
       "      <td>Consumo Cíclico</td>\n",
       "      <td>Viagens e Lazer</td>\n",
       "      <td>Viagens e Turismo</td>\n",
       "      <td>http://bvmf.bmfbovespa.com.br/pt-br/mercados/a...</td>\n",
       "    </tr>\n",
       "    <tr>\n",
       "      <th>140</th>\n",
       "      <td>PET CENTER COMERCIO  E PARTICIPACOES S.A.</td>\n",
       "      <td>PETZ</td>\n",
       "      <td>NM</td>\n",
       "      <td>[PETZ3]</td>\n",
       "      <td>Consumo Cíclico</td>\n",
       "      <td>Comércio</td>\n",
       "      <td>Produtos Diversos</td>\n",
       "      <td>http://bvmf.bmfbovespa.com.br/pt-br/mercados/a...</td>\n",
       "    </tr>\n",
       "    <tr>\n",
       "      <th>382</th>\n",
       "      <td>CIA GAS DE SAO PAULO - COMGAS</td>\n",
       "      <td>COMGAS</td>\n",
       "      <td>NDA</td>\n",
       "      <td>[CGAS3, CGAS5]</td>\n",
       "      <td>Utilidade Pública</td>\n",
       "      <td>Gás</td>\n",
       "      <td>Gás</td>\n",
       "      <td>http://bvmf.bmfbovespa.com.br/pt-br/mercados/a...</td>\n",
       "    </tr>\n",
       "    <tr>\n",
       "      <th>154</th>\n",
       "      <td>OPPORTUNITY ENERGIA E PARTICIPACOES S.A.</td>\n",
       "      <td>OPPORT ENERG</td>\n",
       "      <td>MB</td>\n",
       "      <td>[OPHE3B]</td>\n",
       "      <td>Outros</td>\n",
       "      <td>Outros</td>\n",
       "      <td>Outros</td>\n",
       "      <td>http://bvmf.bmfbovespa.com.br/pt-br/mercados/a...</td>\n",
       "    </tr>\n",
       "    <tr>\n",
       "      <th>307</th>\n",
       "      <td>ELETROPAULO METROP. ELET. SAO PAULO S.A.</td>\n",
       "      <td>ELETROPAULO</td>\n",
       "      <td>NDA</td>\n",
       "      <td>[]</td>\n",
       "      <td>Utilidade Pública</td>\n",
       "      <td>Energia Elétrica</td>\n",
       "      <td>Energia Elétrica</td>\n",
       "      <td>http://bvmf.bmfbovespa.com.br/pt-br/mercados/a...</td>\n",
       "    </tr>\n",
       "  </tbody>\n",
       "</table>\n",
       "</div>"
      ],
      "text/plain": [
       "                                       razao_social   nome_pregao segmento  \\\n",
       "331  CVC BRASIL OPERADORA E AGÊNCIA DE VIAGENS S.A.    CVC BRASIL       NM   \n",
       "140       PET CENTER COMERCIO  E PARTICIPACOES S.A.          PETZ       NM   \n",
       "382                   CIA GAS DE SAO PAULO - COMGAS        COMGAS      NDA   \n",
       "154        OPPORTUNITY ENERGIA E PARTICIPACOES S.A.  OPPORT ENERG       MB   \n",
       "307        ELETROPAULO METROP. ELET. SAO PAULO S.A.   ELETROPAULO      NDA   \n",
       "\n",
       "            tickers    setor_economico          subsetor  segmento_setorial  \\\n",
       "331         [CVCB3]    Consumo Cíclico   Viagens e Lazer  Viagens e Turismo   \n",
       "140         [PETZ3]    Consumo Cíclico          Comércio  Produtos Diversos   \n",
       "382  [CGAS3, CGAS5]  Utilidade Pública               Gás                Gás   \n",
       "154        [OPHE3B]             Outros            Outros             Outros   \n",
       "307              []  Utilidade Pública  Energia Elétrica   Energia Elétrica   \n",
       "\n",
       "                                             url_dados  \n",
       "331  http://bvmf.bmfbovespa.com.br/pt-br/mercados/a...  \n",
       "140  http://bvmf.bmfbovespa.com.br/pt-br/mercados/a...  \n",
       "382  http://bvmf.bmfbovespa.com.br/pt-br/mercados/a...  \n",
       "154  http://bvmf.bmfbovespa.com.br/pt-br/mercados/a...  \n",
       "307  http://bvmf.bmfbovespa.com.br/pt-br/mercados/a...  "
      ]
     },
     "execution_count": 4,
     "metadata": {},
     "output_type": "execute_result"
    }
   ],
   "source": [
    "df_b3.sample(5)"
   ]
  },
  {
   "cell_type": "markdown",
   "id": "1146449d",
   "metadata": {},
   "source": [
    "### Lista de Tickers"
   ]
  },
  {
   "cell_type": "code",
   "execution_count": 5,
   "id": "a77bdb20",
   "metadata": {},
   "outputs": [],
   "source": [
    "ticker_set = set()\n",
    "\n",
    "for index, row in df_b3.iterrows():\n",
    "    for ticker in row['tickers']:\n",
    "        ticker_set.add(ticker)\n",
    "        \n",
    "ticker_list = list(ticker_set)\n",
    "ticker_list.sort()"
   ]
  },
  {
   "cell_type": "code",
   "execution_count": 6,
   "id": "99a038df",
   "metadata": {},
   "outputs": [
    {
     "data": {
      "text/plain": [
       "['AALR3', 'ABCB4', 'ABEV3', 'AERI3', 'AESB3']"
      ]
     },
     "execution_count": 6,
     "metadata": {},
     "output_type": "execute_result"
    }
   ],
   "source": [
    "ticker_list[:5]"
   ]
  },
  {
   "cell_type": "markdown",
   "id": "0fea6be6",
   "metadata": {},
   "source": [
    "### Lista de Nomes de Pregão"
   ]
  },
  {
   "cell_type": "code",
   "execution_count": 7,
   "id": "cbcdb929",
   "metadata": {},
   "outputs": [],
   "source": [
    "company_names_list = list()\n",
    "\n",
    "for index, row in df_b3.iterrows():\n",
    "    company_names_list.append(row['nome_pregao'])\n",
    "        \n",
    "company_names_list.sort()"
   ]
  },
  {
   "cell_type": "code",
   "execution_count": 9,
   "id": "ae25d321",
   "metadata": {},
   "outputs": [
    {
     "data": {
      "text/plain": [
       "['3R PETROLEUM', '3TENTOS', '524 PARTICIP', 'ABC BRASIL', 'ACO ALTONA']"
      ]
     },
     "execution_count": 9,
     "metadata": {},
     "output_type": "execute_result"
    }
   ],
   "source": [
    "company_names_list[:5]"
   ]
  },
  {
   "cell_type": "markdown",
   "id": "1c4248bd",
   "metadata": {},
   "source": [
    "---"
   ]
  },
  {
   "cell_type": "markdown",
   "id": "24115914",
   "metadata": {},
   "source": [
    "### Dados do Portal de Notícias Suno Research"
   ]
  },
  {
   "cell_type": "code",
   "execution_count": 10,
   "id": "c454e893",
   "metadata": {},
   "outputs": [],
   "source": [
    "with open('../crawlers/suno/data/latest-results-suno.json', encoding='utf8') as json_file:\n",
    "    data = json.load(json_file) \n",
    "    \n",
    "df_suno = pd.DataFrame(data)"
   ]
  },
  {
   "cell_type": "code",
   "execution_count": 11,
   "id": "22d70987",
   "metadata": {},
   "outputs": [],
   "source": [
    "# Convert date to datetime format\n",
    "df_suno['date'] = pd.to_datetime(df_suno['date'], format='%d/%m/%Y %H:%M')\n",
    "\n",
    "# Set date column as index\n",
    "df_suno.set_index('date', inplace=True)\n",
    "\n",
    "# Order by date\n",
    "df_suno.sort_index(inplace=True)"
   ]
  },
  {
   "cell_type": "code",
   "execution_count": 12,
   "id": "46bb3185",
   "metadata": {},
   "outputs": [
    {
     "data": {
      "text/html": [
       "<div>\n",
       "<style scoped>\n",
       "    .dataframe tbody tr th:only-of-type {\n",
       "        vertical-align: middle;\n",
       "    }\n",
       "\n",
       "    .dataframe tbody tr th {\n",
       "        vertical-align: top;\n",
       "    }\n",
       "\n",
       "    .dataframe thead th {\n",
       "        text-align: right;\n",
       "    }\n",
       "</style>\n",
       "<table border=\"1\" class=\"dataframe\">\n",
       "  <thead>\n",
       "    <tr style=\"text-align: right;\">\n",
       "      <th></th>\n",
       "      <th>topic</th>\n",
       "      <th>title</th>\n",
       "      <th>full_text</th>\n",
       "      <th>url</th>\n",
       "      <th>tags</th>\n",
       "    </tr>\n",
       "    <tr>\n",
       "      <th>date</th>\n",
       "      <th></th>\n",
       "      <th></th>\n",
       "      <th></th>\n",
       "      <th></th>\n",
       "      <th></th>\n",
       "    </tr>\n",
       "  </thead>\n",
       "  <tbody>\n",
       "    <tr>\n",
       "      <th>2021-09-03 17:50:00</th>\n",
       "      <td>Mercado</td>\n",
       "      <td>Dólar fecha estável após payroll frustrar expe...</td>\n",
       "      <td>O dólar encerrou as negociações desta sexta-fe...</td>\n",
       "      <td>https://www.suno.com.br/noticias/dolar-fecha-e...</td>\n",
       "      <td>[dólar, Especialistas]</td>\n",
       "    </tr>\n",
       "    <tr>\n",
       "      <th>2021-09-06 17:31:00</th>\n",
       "      <td>Negócios</td>\n",
       "      <td>Ibovespa: Minerva (BEEF3) dispara e puxa alta ...</td>\n",
       "      <td>Mesmo com anúncio do Ministério da Agricultura...</td>\n",
       "      <td>https://www.suno.com.br/noticias/minerva-beef3...</td>\n",
       "      <td>[Agências, BRF (BRFS3), Ibovespa, JBS (JBSS3),...</td>\n",
       "    </tr>\n",
       "    <tr>\n",
       "      <th>2021-09-03 11:08:00</th>\n",
       "      <td>Mercado</td>\n",
       "      <td>Dólar recua após dados de emprego fracos nos EUA</td>\n",
       "      <td>O dólar opera em baixa na manhã desta sexta-fe...</td>\n",
       "      <td>https://www.suno.com.br/noticias/dolar-recua-a...</td>\n",
       "      <td>[dólar, dólar futuro]</td>\n",
       "    </tr>\n",
       "    <tr>\n",
       "      <th>2021-09-06 10:09:00</th>\n",
       "      <td>Internacional</td>\n",
       "      <td>China pode relaxar política monetária e gastar...</td>\n",
       "      <td>Segundo dados recentes da Fitch Ratings, a Chi...</td>\n",
       "      <td>https://www.suno.com.br/noticias/china-politic...</td>\n",
       "      <td>[Agências, Alemanha, China, Saudi Aramco]</td>\n",
       "    </tr>\n",
       "    <tr>\n",
       "      <th>2021-09-03 20:07:00</th>\n",
       "      <td>Mercado Financeiro</td>\n",
       "      <td>Após amargar perdas, Mauá Capital reduz área d...</td>\n",
       "      <td>Em informe nesta sexta-feira (3), a Mauá Capit...</td>\n",
       "      <td>https://www.suno.com.br/noticias/apos-amargar-...</td>\n",
       "      <td>[Fundos multimercado, Mauá Capital]</td>\n",
       "    </tr>\n",
       "  </tbody>\n",
       "</table>\n",
       "</div>"
      ],
      "text/plain": [
       "                                  topic  \\\n",
       "date                                      \n",
       "2021-09-03 17:50:00             Mercado   \n",
       "2021-09-06 17:31:00            Negócios   \n",
       "2021-09-03 11:08:00             Mercado   \n",
       "2021-09-06 10:09:00       Internacional   \n",
       "2021-09-03 20:07:00  Mercado Financeiro   \n",
       "\n",
       "                                                                 title  \\\n",
       "date                                                                     \n",
       "2021-09-03 17:50:00  Dólar fecha estável após payroll frustrar expe...   \n",
       "2021-09-06 17:31:00  Ibovespa: Minerva (BEEF3) dispara e puxa alta ...   \n",
       "2021-09-03 11:08:00   Dólar recua após dados de emprego fracos nos EUA   \n",
       "2021-09-06 10:09:00  China pode relaxar política monetária e gastar...   \n",
       "2021-09-03 20:07:00  Após amargar perdas, Mauá Capital reduz área d...   \n",
       "\n",
       "                                                             full_text  \\\n",
       "date                                                                     \n",
       "2021-09-03 17:50:00  O dólar encerrou as negociações desta sexta-fe...   \n",
       "2021-09-06 17:31:00  Mesmo com anúncio do Ministério da Agricultura...   \n",
       "2021-09-03 11:08:00  O dólar opera em baixa na manhã desta sexta-fe...   \n",
       "2021-09-06 10:09:00  Segundo dados recentes da Fitch Ratings, a Chi...   \n",
       "2021-09-03 20:07:00  Em informe nesta sexta-feira (3), a Mauá Capit...   \n",
       "\n",
       "                                                                   url  \\\n",
       "date                                                                     \n",
       "2021-09-03 17:50:00  https://www.suno.com.br/noticias/dolar-fecha-e...   \n",
       "2021-09-06 17:31:00  https://www.suno.com.br/noticias/minerva-beef3...   \n",
       "2021-09-03 11:08:00  https://www.suno.com.br/noticias/dolar-recua-a...   \n",
       "2021-09-06 10:09:00  https://www.suno.com.br/noticias/china-politic...   \n",
       "2021-09-03 20:07:00  https://www.suno.com.br/noticias/apos-amargar-...   \n",
       "\n",
       "                                                                  tags  \n",
       "date                                                                    \n",
       "2021-09-03 17:50:00                             [dólar, Especialistas]  \n",
       "2021-09-06 17:31:00  [Agências, BRF (BRFS3), Ibovespa, JBS (JBSS3),...  \n",
       "2021-09-03 11:08:00                              [dólar, dólar futuro]  \n",
       "2021-09-06 10:09:00          [Agências, Alemanha, China, Saudi Aramco]  \n",
       "2021-09-03 20:07:00                [Fundos multimercado, Mauá Capital]  "
      ]
     },
     "execution_count": 12,
     "metadata": {},
     "output_type": "execute_result"
    }
   ],
   "source": [
    "df_suno.sample(5)"
   ]
  },
  {
   "cell_type": "code",
   "execution_count": 13,
   "id": "d6024895",
   "metadata": {},
   "outputs": [
    {
     "name": "stdout",
     "output_type": "stream",
     "text": [
      "<class 'pandas.core.frame.DataFrame'>\n",
      "DatetimeIndex: 61 entries, 2021-09-03 11:08:00 to 2021-09-07 11:42:00\n",
      "Data columns (total 5 columns):\n",
      " #   Column     Non-Null Count  Dtype \n",
      "---  ------     --------------  ----- \n",
      " 0   topic      61 non-null     object\n",
      " 1   title      61 non-null     object\n",
      " 2   full_text  61 non-null     object\n",
      " 3   url        61 non-null     object\n",
      " 4   tags       61 non-null     object\n",
      "dtypes: object(5)\n",
      "memory usage: 2.9+ KB\n"
     ]
    }
   ],
   "source": [
    "df_suno.info()"
   ]
  },
  {
   "cell_type": "markdown",
   "id": "f4319bc0",
   "metadata": {},
   "source": [
    "---"
   ]
  },
  {
   "cell_type": "markdown",
   "id": "4a8f841d",
   "metadata": {},
   "source": [
    "### Método Baseado em Regras para NER"
   ]
  },
  {
   "cell_type": "code",
   "execution_count": 14,
   "id": "53614a9e",
   "metadata": {
    "scrolled": true
   },
   "outputs": [
    {
     "name": "stdout",
     "output_type": "stream",
     "text": [
      "Headline: Aliansce (ALSO3) investirá na startup Hubsell para impulsionar e-commerce\n",
      "(datetime, ticker, topic) values (2021-09-03 17:46:00-03:00, ALSO3, Negócios)\n",
      "-----------------------------------\n",
      "Headline: Ibovespa sobe 0,2% após payroll; Magazine Luiza (MGLU3) dispara 5%\n",
      "(datetime, ticker, topic) values (2021-09-03 17:55:00-03:00, EQTL3, Mercado)\n",
      "(datetime, ticker, topic) values (2021-09-03 17:55:00-03:00, MGLU3, Mercado)\n",
      "-----------------------------------\n",
      "Headline: Nove empresas disputam rodada de licitações da ANP; veja lista\n",
      "(datetime, ticker, topic) values (2021-09-03 19:00:00-03:00, PETR4, Economia)\n",
      "-----------------------------------\n",
      "Headline: Rede D’Or (RDOR3) pagará R$ 2,128 bi em dividendos e JCP\n",
      "(datetime, ticker, topic) values (2021-09-03 19:11:00-03:00, RDOR3, Negócios)\n",
      "-----------------------------------\n",
      "Headline: Fundo imobiliário SNFF11 anuncia desconto na parcela da taxa de administração\n",
      "(datetime, ticker, topic) values (2021-09-03 22:21:00-03:00, BPAC11, Negócios)\n",
      "(datetime, ticker, topic) values (2021-09-03 22:21:00-03:00, BPAC5, Negócios)\n",
      "(datetime, ticker, topic) values (2021-09-03 22:21:00-03:00, BPAC3, Negócios)\n",
      "-----------------------------------\n",
      "Headline: Porto Seguro (PSSA3): conselho aprova aumento de capital de R$ 4 bilhões; AGE vai discutir\n",
      "(datetime, ticker, topic) values (2021-09-03 23:34:00-03:00, PSSA3, Negócios)\n",
      "-----------------------------------\n",
      "Headline: Portofino traz ex-Santander (SANB11) para expandir gestão de fortunas e dobrar ativos até R$ 15 bi\n",
      "(datetime, ticker, topic) values (2021-09-04 10:00:00-03:00, SANB11, Entrevistas)\n",
      "(datetime, ticker, topic) values (2021-09-04 10:00:00-03:00, SANB4, Entrevistas)\n",
      "(datetime, ticker, topic) values (2021-09-04 10:00:00-03:00, SANB3, Entrevistas)\n",
      "-----------------------------------\n",
      "Headline: Méliuz (CASH3) aprova desdobramento de ações de 1 para 6\n",
      "(datetime, ticker, topic) values (2021-09-04 10:46:00-03:00, CASH3, Negócios)\n",
      "-----------------------------------\n",
      "Headline: CCR (CCRO3): tráfego nas rodovias cresce 11% na semana\n",
      "(datetime, ticker, topic) values (2021-09-04 11:06:00-03:00, CCRO3, Negócios)\n",
      "-----------------------------------\n",
      "Headline: Oi (OIBR3) despenca; Via (VIIA3) pode valorizar 74%; MXRF11 paga dividendos: Veja as 5 notícias mais lidas\n",
      "(datetime, ticker, topic) values (2021-09-04 12:27:00-03:00, OIBR3, Negócios)\n",
      "(datetime, ticker, topic) values (2021-09-04 12:27:00-03:00, BBAS3, Negócios)\n",
      "(datetime, ticker, topic) values (2021-09-04 12:27:00-03:00, VIIA3, Negócios)\n",
      "(datetime, ticker, topic) values (2021-09-04 12:27:00-03:00, OIBR4, Negócios)\n",
      "-----------------------------------\n",
      "Headline: Cosan (CSAN3) fecha rodada de R$ 1,4 bi na Compass, liderada pelo Bradesco (BBDC4)\n",
      "(datetime, ticker, topic) values (2021-09-04 13:20:00-03:00, BBDC4, Negócios)\n",
      "(datetime, ticker, topic) values (2021-09-04 13:20:00-03:00, BBDC3, Negócios)\n",
      "(datetime, ticker, topic) values (2021-09-04 13:20:00-03:00, PASS3, Negócios)\n",
      "(datetime, ticker, topic) values (2021-09-04 13:20:00-03:00, CSAN3, Negócios)\n",
      "-----------------------------------\n",
      "Headline: Crédito é trunfo dos grandes bancos na briga por clientes com as fintechs\n",
      "(datetime, ticker, topic) values (2021-09-05 11:52:00-03:00, SANB11, Mercado)\n",
      "(datetime, ticker, topic) values (2021-09-05 11:52:00-03:00, BBAS3, Mercado)\n",
      "(datetime, ticker, topic) values (2021-09-05 11:52:00-03:00, BPAC11, Mercado)\n",
      "(datetime, ticker, topic) values (2021-09-05 11:52:00-03:00, BBDC4, Mercado)\n",
      "(datetime, ticker, topic) values (2021-09-05 11:52:00-03:00, SANB4, Mercado)\n",
      "(datetime, ticker, topic) values (2021-09-05 11:52:00-03:00, BBDC3, Mercado)\n",
      "(datetime, ticker, topic) values (2021-09-05 11:52:00-03:00, ITUB3, Mercado)\n",
      "(datetime, ticker, topic) values (2021-09-05 11:52:00-03:00, ITUB4, Mercado)\n",
      "(datetime, ticker, topic) values (2021-09-05 11:52:00-03:00, SANB3, Mercado)\n",
      "(datetime, ticker, topic) values (2021-09-05 11:52:00-03:00, BPAC3, Mercado)\n",
      "(datetime, ticker, topic) values (2021-09-05 11:52:00-03:00, BPAC5, Mercado)\n",
      "-----------------------------------\n",
      "Headline: Dasa (DASA3) adquire três hospitais do Grupo Leforte por R$ 1,77 bilhão\n",
      "(datetime, ticker, topic) values (2021-09-05 12:35:00-03:00, DASA3, Negócios)\n",
      "-----------------------------------\n",
      "Headline: Empresas de logística inovam para atender as novas demandas do e-commerce\n",
      "(datetime, ticker, topic) values (2021-09-05 18:01:00-03:00, JSLG3, Negócios)\n",
      "-----------------------------------\n",
      "Headline: Ibovespa vira para alta às vésperas de 7 de setembro; Minerva (BEEF3) dispara 5%\n",
      "(datetime, ticker, topic) values (2021-09-06 15:27:00-03:00, BEEF3, Negócios)\n",
      "-----------------------------------\n",
      "Headline: Enauta (ENAT3) cai 5% após informar problemas na produção\n",
      "(datetime, ticker, topic) values (2021-09-06 15:29:00-03:00, ENAT3, Negócios)\n",
      "-----------------------------------\n",
      "Headline: ‘Vaca louca’: Marfrig (MRFG3) vê retomada de exportações em breve\n",
      "(datetime, ticker, topic) values (2021-09-06 15:46:00-03:00, MRFG3, Negócios)\n",
      "-----------------------------------\n",
      "Headline: Raia Drogasil (RADL3) tem boas perspectivas, mas BB Investimentos vê ação já precificada\n",
      "(datetime, ticker, topic) values (2021-09-06 16:35:00-03:00, RADL3, Negócios)\n",
      "-----------------------------------\n",
      "Headline: Ibovespa: Minerva (BEEF3) dispara e puxa alta dos frigoríficos; entenda por quê\n",
      "(datetime, ticker, topic) values (2021-09-06 17:31:00-03:00, MRFG3, Negócios)\n",
      "(datetime, ticker, topic) values (2021-09-06 17:31:00-03:00, BEEF3, Negócios)\n",
      "(datetime, ticker, topic) values (2021-09-06 17:31:00-03:00, JBSS3, Negócios)\n",
      "(datetime, ticker, topic) values (2021-09-06 17:31:00-03:00, BRFS3, Negócios)\n",
      "-----------------------------------\n",
      "Headline: NotreDame Intermédica (GNDI3): Cade aprova compra do Hospital Santa Martha sem restrições\n",
      "(datetime, ticker, topic) values (2021-09-06 17:34:00-03:00, GNDI3, Negócios)\n",
      "-----------------------------------\n",
      "Headline: Ibovespa sobe 0,8% em dia de baixa liquidez; Petrobras (PETR4) e bancos sustentam alta\n",
      "(datetime, ticker, topic) values (2021-09-06 17:45:00-03:00, ALPA3, Mercado)\n",
      "(datetime, ticker, topic) values (2021-09-06 17:45:00-03:00, PETR4, Mercado)\n",
      "(datetime, ticker, topic) values (2021-09-06 17:45:00-03:00, MRFG3, Mercado)\n",
      "(datetime, ticker, topic) values (2021-09-06 17:45:00-03:00, JBSS3, Mercado)\n",
      "(datetime, ticker, topic) values (2021-09-06 17:45:00-03:00, CASH3, Mercado)\n",
      "(datetime, ticker, topic) values (2021-09-06 17:45:00-03:00, DXCO3, Mercado)\n",
      "(datetime, ticker, topic) values (2021-09-06 17:45:00-03:00, ALPA4, Mercado)\n",
      "(datetime, ticker, topic) values (2021-09-06 17:45:00-03:00, BEEF3, Mercado)\n",
      "(datetime, ticker, topic) values (2021-09-06 17:45:00-03:00, BRFS3, Mercado)\n",
      "-----------------------------------\n",
      "Headline: Gol (GOLL4): número de passageiros sobe 87% em agosto; demanda doméstica cresce 84,7%\n",
      "(datetime, ticker, topic) values (2021-09-06 21:15:00-03:00, GOLL4, Negócios)\n",
      "-----------------------------------\n",
      "Headline: Radar: Oi (OIBR3) tem venda contestada por associação e Marfrig (MRFG3) prevê retomada de exportações\n",
      "(datetime, ticker, topic) values (2021-09-06 23:34:00-03:00, MRFG3, Negócios)\n",
      "(datetime, ticker, topic) values (2021-09-06 23:34:00-03:00, OIBR4, Negócios)\n",
      "(datetime, ticker, topic) values (2021-09-06 23:34:00-03:00, GNDI3, Negócios)\n",
      "(datetime, ticker, topic) values (2021-09-06 23:34:00-03:00, OIBR3, Negócios)\n",
      "(datetime, ticker, topic) values (2021-09-06 23:34:00-03:00, GOLL4, Negócios)\n",
      "-----------------------------------\n"
     ]
    }
   ],
   "source": [
    "tz = pytz.timezone('America/Sao_Paulo')\n",
    "\n",
    "for index, row in df_suno.iterrows():\n",
    "    # Lista de palavras, sem pontuação, com letras maiúsculas\n",
    "    list_of_words = [[w.upper().translate(str.maketrans('', '', string.punctuation))] for w in str(row['title']).split()]\n",
    "    list_of_tags = [re.findall(r\"[\\w']+|[.,!?;]\", x.upper()) for x in row['tags']]\n",
    "\n",
    "    list_of_words.extend(list_of_tags)\n",
    "\n",
    "    # Extrair o ticker a partir dos nomes do pregão \n",
    "    # que aparecem nas tags (Exemplo: 'Vale' --> 'VALE3')\n",
    "    company_names_set = set()\n",
    "\n",
    "    for text_chunk in row['tags']:\n",
    "        if text_chunk.upper() in company_names_list:            \n",
    "            # Find index in df_b3\n",
    "            # Empty if not found\n",
    "            print (text_chunk.upper())\n",
    "            index_list = df_b3.index[df_b3['nome_pregao'] == str(text_chunk.upper())].tolist()\n",
    "\n",
    "            if index_list:\n",
    "                index_number = index_list[0]\n",
    "                tickers = df_b3['tickers'].loc[index_number]\n",
    "\n",
    "                for ticker in tickers:\n",
    "                    # Add ticker to the set\n",
    "                    company_names_set.add(ticker)\n",
    "\n",
    "    # Remover pontuação\n",
    "    flat_list = [item.translate(str.maketrans('', '', string.punctuation)) for sublist in list_of_words for item in sublist]\n",
    "\n",
    "    mentioned_tickers = set(flat_list).intersection(ticker_list)\n",
    "    mentioned_tickers.update(company_names_set)\n",
    "\n",
    "    if mentioned_tickers:\n",
    "        print (f'Headline: {str(row.title)}')\n",
    "        for ticker in list(mentioned_tickers):\n",
    "            print (f'(datetime, ticker, topic) values ({index.replace(tzinfo=tz)}, {ticker}, {row.topic})') \n",
    "        print ('-'*35)"
   ]
  },
  {
   "cell_type": "markdown",
   "id": "be796044",
   "metadata": {},
   "source": [
    "---"
   ]
  }
 ],
 "metadata": {
  "kernelspec": {
   "display_name": "Python 3",
   "language": "python",
   "name": "python3"
  },
  "language_info": {
   "codemirror_mode": {
    "name": "ipython",
    "version": 3
   },
   "file_extension": ".py",
   "mimetype": "text/x-python",
   "name": "python",
   "nbconvert_exporter": "python",
   "pygments_lexer": "ipython3",
   "version": "3.8.8"
  }
 },
 "nbformat": 4,
 "nbformat_minor": 5
}
